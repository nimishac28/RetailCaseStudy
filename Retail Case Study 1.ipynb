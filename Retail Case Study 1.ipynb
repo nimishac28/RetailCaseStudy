{
 "cells": [
  {
   "cell_type": "markdown",
   "id": "03648cb4",
   "metadata": {},
   "source": [
    "### CUSTOMER ANALYSIS FOR RETAIL"
   ]
  },
  {
   "cell_type": "markdown",
   "id": "4d37e4b5",
   "metadata": {},
   "source": [
    "#### Q1"
   ]
  },
  {
   "cell_type": "code",
   "execution_count": 120,
   "id": "bfb57b44",
   "metadata": {},
   "outputs": [],
   "source": [
    "import pandas as pd\n",
    "import numpy as np\n",
    "import matplotlib.pyplot as plt\n",
    "import seaborn as sns"
   ]
  },
  {
   "cell_type": "code",
   "execution_count": 121,
   "id": "fba1f732",
   "metadata": {},
   "outputs": [],
   "source": [
    "customer= pd.read_csv(\"D:\\\\Learning\\\\Nimisha\\Python Foundation Case Study 1 - Retail Case Study\\\\Customer.csv\")"
   ]
  },
  {
   "cell_type": "code",
   "execution_count": 122,
   "id": "a030b993",
   "metadata": {},
   "outputs": [],
   "source": [
    "product= pd.read_csv(\"D:\\\\Learning\\\\Nimisha\\Python Foundation Case Study 1 - Retail Case Study\\\\prod_cat_info.csv\")"
   ]
  },
  {
   "cell_type": "code",
   "execution_count": 123,
   "id": "d3e8c00b",
   "metadata": {},
   "outputs": [],
   "source": [
    "transaction= pd.read_csv(\"D:\\\\Learning\\\\Nimisha\\Python Foundation Case Study 1 - Retail Case Study\\\\Transactions.csv\")"
   ]
  },
  {
   "cell_type": "code",
   "execution_count": 124,
   "id": "0b72a06c",
   "metadata": {},
   "outputs": [],
   "source": [
    "c_t=pd.merge(customer,transaction,how='outer',left_on='customer_Id',right_on='cust_id')"
   ]
  },
  {
   "cell_type": "code",
   "execution_count": 125,
   "id": "40c65595",
   "metadata": {},
   "outputs": [],
   "source": [
    "customer_final=pd.merge(c_t,product,how='outer',on='prod_cat_code')"
   ]
  },
  {
   "cell_type": "code",
   "execution_count": 126,
   "id": "0400340d",
   "metadata": {},
   "outputs": [],
   "source": [
    "customer_final.drop( columns=['cust_id','prod_subcat_code'], inplace=True)"
   ]
  },
  {
   "cell_type": "code",
   "execution_count": 66,
   "id": "5e275b73",
   "metadata": {},
   "outputs": [
    {
     "data": {
      "text/html": [
       "<div>\n",
       "<style scoped>\n",
       "    .dataframe tbody tr th:only-of-type {\n",
       "        vertical-align: middle;\n",
       "    }\n",
       "\n",
       "    .dataframe tbody tr th {\n",
       "        vertical-align: top;\n",
       "    }\n",
       "\n",
       "    .dataframe thead th {\n",
       "        text-align: right;\n",
       "    }\n",
       "</style>\n",
       "<table border=\"1\" class=\"dataframe\">\n",
       "  <thead>\n",
       "    <tr style=\"text-align: right;\">\n",
       "      <th></th>\n",
       "      <th>customer_Id</th>\n",
       "      <th>DOB</th>\n",
       "      <th>Gender</th>\n",
       "      <th>city_code</th>\n",
       "      <th>transaction_id</th>\n",
       "      <th>tran_date</th>\n",
       "      <th>prod_cat_code</th>\n",
       "      <th>Qty</th>\n",
       "      <th>Rate</th>\n",
       "      <th>Tax</th>\n",
       "      <th>total_amt</th>\n",
       "      <th>Store_type</th>\n",
       "      <th>prod_cat</th>\n",
       "      <th>prod_sub_cat_code</th>\n",
       "      <th>prod_subcat</th>\n",
       "    </tr>\n",
       "  </thead>\n",
       "  <tbody>\n",
       "    <tr>\n",
       "      <th>0</th>\n",
       "      <td>268408</td>\n",
       "      <td>02-01-1970</td>\n",
       "      <td>M</td>\n",
       "      <td>4.0</td>\n",
       "      <td>8.724384e+10</td>\n",
       "      <td>13-01-2014</td>\n",
       "      <td>5.0</td>\n",
       "      <td>5.0</td>\n",
       "      <td>187.0</td>\n",
       "      <td>98.175</td>\n",
       "      <td>1033.175</td>\n",
       "      <td>TeleShop</td>\n",
       "      <td>Books</td>\n",
       "      <td>7.0</td>\n",
       "      <td>Fiction</td>\n",
       "    </tr>\n",
       "    <tr>\n",
       "      <th>1</th>\n",
       "      <td>268408</td>\n",
       "      <td>02-01-1970</td>\n",
       "      <td>M</td>\n",
       "      <td>4.0</td>\n",
       "      <td>8.724384e+10</td>\n",
       "      <td>13-01-2014</td>\n",
       "      <td>5.0</td>\n",
       "      <td>5.0</td>\n",
       "      <td>187.0</td>\n",
       "      <td>98.175</td>\n",
       "      <td>1033.175</td>\n",
       "      <td>TeleShop</td>\n",
       "      <td>Books</td>\n",
       "      <td>12.0</td>\n",
       "      <td>Academic</td>\n",
       "    </tr>\n",
       "    <tr>\n",
       "      <th>2</th>\n",
       "      <td>268408</td>\n",
       "      <td>02-01-1970</td>\n",
       "      <td>M</td>\n",
       "      <td>4.0</td>\n",
       "      <td>8.724384e+10</td>\n",
       "      <td>13-01-2014</td>\n",
       "      <td>5.0</td>\n",
       "      <td>5.0</td>\n",
       "      <td>187.0</td>\n",
       "      <td>98.175</td>\n",
       "      <td>1033.175</td>\n",
       "      <td>TeleShop</td>\n",
       "      <td>Books</td>\n",
       "      <td>10.0</td>\n",
       "      <td>Non-Fiction</td>\n",
       "    </tr>\n",
       "    <tr>\n",
       "      <th>3</th>\n",
       "      <td>268408</td>\n",
       "      <td>02-01-1970</td>\n",
       "      <td>M</td>\n",
       "      <td>4.0</td>\n",
       "      <td>8.724384e+10</td>\n",
       "      <td>13-01-2014</td>\n",
       "      <td>5.0</td>\n",
       "      <td>5.0</td>\n",
       "      <td>187.0</td>\n",
       "      <td>98.175</td>\n",
       "      <td>1033.175</td>\n",
       "      <td>TeleShop</td>\n",
       "      <td>Books</td>\n",
       "      <td>11.0</td>\n",
       "      <td>Children</td>\n",
       "    </tr>\n",
       "    <tr>\n",
       "      <th>4</th>\n",
       "      <td>268408</td>\n",
       "      <td>02-01-1970</td>\n",
       "      <td>M</td>\n",
       "      <td>4.0</td>\n",
       "      <td>8.724384e+10</td>\n",
       "      <td>13-01-2014</td>\n",
       "      <td>5.0</td>\n",
       "      <td>5.0</td>\n",
       "      <td>187.0</td>\n",
       "      <td>98.175</td>\n",
       "      <td>1033.175</td>\n",
       "      <td>TeleShop</td>\n",
       "      <td>Books</td>\n",
       "      <td>3.0</td>\n",
       "      <td>Comics</td>\n",
       "    </tr>\n",
       "  </tbody>\n",
       "</table>\n",
       "</div>"
      ],
      "text/plain": [
       "   customer_Id         DOB Gender  city_code  transaction_id   tran_date  \\\n",
       "0       268408  02-01-1970      M        4.0    8.724384e+10  13-01-2014   \n",
       "1       268408  02-01-1970      M        4.0    8.724384e+10  13-01-2014   \n",
       "2       268408  02-01-1970      M        4.0    8.724384e+10  13-01-2014   \n",
       "3       268408  02-01-1970      M        4.0    8.724384e+10  13-01-2014   \n",
       "4       268408  02-01-1970      M        4.0    8.724384e+10  13-01-2014   \n",
       "\n",
       "   prod_cat_code  Qty   Rate     Tax  total_amt Store_type prod_cat  \\\n",
       "0            5.0  5.0  187.0  98.175   1033.175   TeleShop    Books   \n",
       "1            5.0  5.0  187.0  98.175   1033.175   TeleShop    Books   \n",
       "2            5.0  5.0  187.0  98.175   1033.175   TeleShop    Books   \n",
       "3            5.0  5.0  187.0  98.175   1033.175   TeleShop    Books   \n",
       "4            5.0  5.0  187.0  98.175   1033.175   TeleShop    Books   \n",
       "\n",
       "   prod_sub_cat_code  prod_subcat  \n",
       "0                7.0      Fiction  \n",
       "1               12.0     Academic  \n",
       "2               10.0  Non-Fiction  \n",
       "3               11.0     Children  \n",
       "4                3.0       Comics  "
      ]
     },
     "execution_count": 66,
     "metadata": {},
     "output_type": "execute_result"
    }
   ],
   "source": [
    "customer_final.head()"
   ]
  },
  {
   "cell_type": "markdown",
   "id": "b9ebd518",
   "metadata": {},
   "source": [
    "#### Q2.a. "
   ]
  },
  {
   "cell_type": "code",
   "execution_count": 67,
   "id": "739ec0d4",
   "metadata": {},
   "outputs": [
    {
     "name": "stdout",
     "output_type": "stream",
     "text": [
      "<class 'pandas.core.frame.DataFrame'>\n",
      "Int64Index: 99434 entries, 0 to 99433\n",
      "Data columns (total 15 columns):\n",
      " #   Column             Non-Null Count  Dtype  \n",
      "---  ------             --------------  -----  \n",
      " 0   customer_Id        99434 non-null  int64  \n",
      " 1   DOB                99434 non-null  object \n",
      " 2   Gender             99394 non-null  object \n",
      " 3   city_code          99398 non-null  float64\n",
      " 4   transaction_id     99293 non-null  float64\n",
      " 5   tran_date          99293 non-null  object \n",
      " 6   prod_cat_code      99293 non-null  float64\n",
      " 7   Qty                99293 non-null  float64\n",
      " 8   Rate               99293 non-null  float64\n",
      " 9   Tax                99293 non-null  float64\n",
      " 10  total_amt          99293 non-null  float64\n",
      " 11  Store_type         99293 non-null  object \n",
      " 12  prod_cat           99293 non-null  object \n",
      " 13  prod_sub_cat_code  99293 non-null  float64\n",
      " 14  prod_subcat        99293 non-null  object \n",
      "dtypes: float64(8), int64(1), object(6)\n",
      "memory usage: 12.1+ MB\n"
     ]
    }
   ],
   "source": [
    "customer_final.info()"
   ]
  },
  {
   "cell_type": "markdown",
   "id": "fc508a84",
   "metadata": {},
   "source": [
    "#### Q2.b."
   ]
  },
  {
   "cell_type": "code",
   "execution_count": 10,
   "id": "789e58c9",
   "metadata": {},
   "outputs": [
    {
     "data": {
      "text/html": [
       "<div>\n",
       "<style scoped>\n",
       "    .dataframe tbody tr th:only-of-type {\n",
       "        vertical-align: middle;\n",
       "    }\n",
       "\n",
       "    .dataframe tbody tr th {\n",
       "        vertical-align: top;\n",
       "    }\n",
       "\n",
       "    .dataframe thead th {\n",
       "        text-align: right;\n",
       "    }\n",
       "</style>\n",
       "<table border=\"1\" class=\"dataframe\">\n",
       "  <thead>\n",
       "    <tr style=\"text-align: right;\">\n",
       "      <th></th>\n",
       "      <th>customer_Id</th>\n",
       "      <th>DOB</th>\n",
       "      <th>Gender</th>\n",
       "      <th>city_code</th>\n",
       "      <th>transaction_id</th>\n",
       "      <th>tran_date</th>\n",
       "      <th>prod_cat_code</th>\n",
       "      <th>Qty</th>\n",
       "      <th>Rate</th>\n",
       "      <th>Tax</th>\n",
       "      <th>total_amt</th>\n",
       "      <th>Store_type</th>\n",
       "      <th>prod_cat</th>\n",
       "      <th>prod_sub_cat_code</th>\n",
       "      <th>prod_subcat</th>\n",
       "    </tr>\n",
       "  </thead>\n",
       "  <tbody>\n",
       "    <tr>\n",
       "      <th>0</th>\n",
       "      <td>268408</td>\n",
       "      <td>02-01-1970</td>\n",
       "      <td>M</td>\n",
       "      <td>4.0</td>\n",
       "      <td>8.724384e+10</td>\n",
       "      <td>13-01-2014</td>\n",
       "      <td>5.0</td>\n",
       "      <td>5.0</td>\n",
       "      <td>187.0</td>\n",
       "      <td>98.175</td>\n",
       "      <td>1033.175</td>\n",
       "      <td>TeleShop</td>\n",
       "      <td>Books</td>\n",
       "      <td>7.0</td>\n",
       "      <td>Fiction</td>\n",
       "    </tr>\n",
       "    <tr>\n",
       "      <th>1</th>\n",
       "      <td>268408</td>\n",
       "      <td>02-01-1970</td>\n",
       "      <td>M</td>\n",
       "      <td>4.0</td>\n",
       "      <td>8.724384e+10</td>\n",
       "      <td>13-01-2014</td>\n",
       "      <td>5.0</td>\n",
       "      <td>5.0</td>\n",
       "      <td>187.0</td>\n",
       "      <td>98.175</td>\n",
       "      <td>1033.175</td>\n",
       "      <td>TeleShop</td>\n",
       "      <td>Books</td>\n",
       "      <td>12.0</td>\n",
       "      <td>Academic</td>\n",
       "    </tr>\n",
       "    <tr>\n",
       "      <th>2</th>\n",
       "      <td>268408</td>\n",
       "      <td>02-01-1970</td>\n",
       "      <td>M</td>\n",
       "      <td>4.0</td>\n",
       "      <td>8.724384e+10</td>\n",
       "      <td>13-01-2014</td>\n",
       "      <td>5.0</td>\n",
       "      <td>5.0</td>\n",
       "      <td>187.0</td>\n",
       "      <td>98.175</td>\n",
       "      <td>1033.175</td>\n",
       "      <td>TeleShop</td>\n",
       "      <td>Books</td>\n",
       "      <td>10.0</td>\n",
       "      <td>Non-Fiction</td>\n",
       "    </tr>\n",
       "    <tr>\n",
       "      <th>3</th>\n",
       "      <td>268408</td>\n",
       "      <td>02-01-1970</td>\n",
       "      <td>M</td>\n",
       "      <td>4.0</td>\n",
       "      <td>8.724384e+10</td>\n",
       "      <td>13-01-2014</td>\n",
       "      <td>5.0</td>\n",
       "      <td>5.0</td>\n",
       "      <td>187.0</td>\n",
       "      <td>98.175</td>\n",
       "      <td>1033.175</td>\n",
       "      <td>TeleShop</td>\n",
       "      <td>Books</td>\n",
       "      <td>11.0</td>\n",
       "      <td>Children</td>\n",
       "    </tr>\n",
       "    <tr>\n",
       "      <th>4</th>\n",
       "      <td>268408</td>\n",
       "      <td>02-01-1970</td>\n",
       "      <td>M</td>\n",
       "      <td>4.0</td>\n",
       "      <td>8.724384e+10</td>\n",
       "      <td>13-01-2014</td>\n",
       "      <td>5.0</td>\n",
       "      <td>5.0</td>\n",
       "      <td>187.0</td>\n",
       "      <td>98.175</td>\n",
       "      <td>1033.175</td>\n",
       "      <td>TeleShop</td>\n",
       "      <td>Books</td>\n",
       "      <td>3.0</td>\n",
       "      <td>Comics</td>\n",
       "    </tr>\n",
       "    <tr>\n",
       "      <th>5</th>\n",
       "      <td>268408</td>\n",
       "      <td>02-01-1970</td>\n",
       "      <td>M</td>\n",
       "      <td>4.0</td>\n",
       "      <td>8.724384e+10</td>\n",
       "      <td>13-01-2014</td>\n",
       "      <td>5.0</td>\n",
       "      <td>5.0</td>\n",
       "      <td>187.0</td>\n",
       "      <td>98.175</td>\n",
       "      <td>1033.175</td>\n",
       "      <td>TeleShop</td>\n",
       "      <td>Books</td>\n",
       "      <td>6.0</td>\n",
       "      <td>DIY</td>\n",
       "    </tr>\n",
       "    <tr>\n",
       "      <th>6</th>\n",
       "      <td>268159</td>\n",
       "      <td>08-01-1970</td>\n",
       "      <td>F</td>\n",
       "      <td>8.0</td>\n",
       "      <td>6.586740e+10</td>\n",
       "      <td>31-03-2013</td>\n",
       "      <td>5.0</td>\n",
       "      <td>5.0</td>\n",
       "      <td>214.0</td>\n",
       "      <td>112.350</td>\n",
       "      <td>1182.350</td>\n",
       "      <td>MBR</td>\n",
       "      <td>Books</td>\n",
       "      <td>7.0</td>\n",
       "      <td>Fiction</td>\n",
       "    </tr>\n",
       "    <tr>\n",
       "      <th>7</th>\n",
       "      <td>268159</td>\n",
       "      <td>08-01-1970</td>\n",
       "      <td>F</td>\n",
       "      <td>8.0</td>\n",
       "      <td>6.586740e+10</td>\n",
       "      <td>31-03-2013</td>\n",
       "      <td>5.0</td>\n",
       "      <td>5.0</td>\n",
       "      <td>214.0</td>\n",
       "      <td>112.350</td>\n",
       "      <td>1182.350</td>\n",
       "      <td>MBR</td>\n",
       "      <td>Books</td>\n",
       "      <td>12.0</td>\n",
       "      <td>Academic</td>\n",
       "    </tr>\n",
       "    <tr>\n",
       "      <th>8</th>\n",
       "      <td>268159</td>\n",
       "      <td>08-01-1970</td>\n",
       "      <td>F</td>\n",
       "      <td>8.0</td>\n",
       "      <td>6.586740e+10</td>\n",
       "      <td>31-03-2013</td>\n",
       "      <td>5.0</td>\n",
       "      <td>5.0</td>\n",
       "      <td>214.0</td>\n",
       "      <td>112.350</td>\n",
       "      <td>1182.350</td>\n",
       "      <td>MBR</td>\n",
       "      <td>Books</td>\n",
       "      <td>10.0</td>\n",
       "      <td>Non-Fiction</td>\n",
       "    </tr>\n",
       "    <tr>\n",
       "      <th>9</th>\n",
       "      <td>268159</td>\n",
       "      <td>08-01-1970</td>\n",
       "      <td>F</td>\n",
       "      <td>8.0</td>\n",
       "      <td>6.586740e+10</td>\n",
       "      <td>31-03-2013</td>\n",
       "      <td>5.0</td>\n",
       "      <td>5.0</td>\n",
       "      <td>214.0</td>\n",
       "      <td>112.350</td>\n",
       "      <td>1182.350</td>\n",
       "      <td>MBR</td>\n",
       "      <td>Books</td>\n",
       "      <td>11.0</td>\n",
       "      <td>Children</td>\n",
       "    </tr>\n",
       "  </tbody>\n",
       "</table>\n",
       "</div>"
      ],
      "text/plain": [
       "   customer_Id         DOB Gender  city_code  transaction_id   tran_date  \\\n",
       "0       268408  02-01-1970      M        4.0    8.724384e+10  13-01-2014   \n",
       "1       268408  02-01-1970      M        4.0    8.724384e+10  13-01-2014   \n",
       "2       268408  02-01-1970      M        4.0    8.724384e+10  13-01-2014   \n",
       "3       268408  02-01-1970      M        4.0    8.724384e+10  13-01-2014   \n",
       "4       268408  02-01-1970      M        4.0    8.724384e+10  13-01-2014   \n",
       "5       268408  02-01-1970      M        4.0    8.724384e+10  13-01-2014   \n",
       "6       268159  08-01-1970      F        8.0    6.586740e+10  31-03-2013   \n",
       "7       268159  08-01-1970      F        8.0    6.586740e+10  31-03-2013   \n",
       "8       268159  08-01-1970      F        8.0    6.586740e+10  31-03-2013   \n",
       "9       268159  08-01-1970      F        8.0    6.586740e+10  31-03-2013   \n",
       "\n",
       "   prod_cat_code  Qty   Rate      Tax  total_amt Store_type prod_cat  \\\n",
       "0            5.0  5.0  187.0   98.175   1033.175   TeleShop    Books   \n",
       "1            5.0  5.0  187.0   98.175   1033.175   TeleShop    Books   \n",
       "2            5.0  5.0  187.0   98.175   1033.175   TeleShop    Books   \n",
       "3            5.0  5.0  187.0   98.175   1033.175   TeleShop    Books   \n",
       "4            5.0  5.0  187.0   98.175   1033.175   TeleShop    Books   \n",
       "5            5.0  5.0  187.0   98.175   1033.175   TeleShop    Books   \n",
       "6            5.0  5.0  214.0  112.350   1182.350        MBR    Books   \n",
       "7            5.0  5.0  214.0  112.350   1182.350        MBR    Books   \n",
       "8            5.0  5.0  214.0  112.350   1182.350        MBR    Books   \n",
       "9            5.0  5.0  214.0  112.350   1182.350        MBR    Books   \n",
       "\n",
       "   prod_sub_cat_code  prod_subcat  \n",
       "0                7.0      Fiction  \n",
       "1               12.0     Academic  \n",
       "2               10.0  Non-Fiction  \n",
       "3               11.0     Children  \n",
       "4                3.0       Comics  \n",
       "5                6.0          DIY  \n",
       "6                7.0      Fiction  \n",
       "7               12.0     Academic  \n",
       "8               10.0  Non-Fiction  \n",
       "9               11.0     Children  "
      ]
     },
     "execution_count": 10,
     "metadata": {},
     "output_type": "execute_result"
    }
   ],
   "source": [
    "customer_final.head(10)"
   ]
  },
  {
   "cell_type": "code",
   "execution_count": 51,
   "id": "be73c324",
   "metadata": {},
   "outputs": [
    {
     "data": {
      "text/html": [
       "<div>\n",
       "<style scoped>\n",
       "    .dataframe tbody tr th:only-of-type {\n",
       "        vertical-align: middle;\n",
       "    }\n",
       "\n",
       "    .dataframe tbody tr th {\n",
       "        vertical-align: top;\n",
       "    }\n",
       "\n",
       "    .dataframe thead th {\n",
       "        text-align: right;\n",
       "    }\n",
       "</style>\n",
       "<table border=\"1\" class=\"dataframe\">\n",
       "  <thead>\n",
       "    <tr style=\"text-align: right;\">\n",
       "      <th></th>\n",
       "      <th>customer_Id</th>\n",
       "      <th>DOB</th>\n",
       "      <th>Gender</th>\n",
       "      <th>city_code</th>\n",
       "      <th>transaction_id</th>\n",
       "      <th>tran_date</th>\n",
       "      <th>prod_cat_code</th>\n",
       "      <th>Qty</th>\n",
       "      <th>Rate</th>\n",
       "      <th>Tax</th>\n",
       "      <th>total_amt</th>\n",
       "      <th>Store_type</th>\n",
       "      <th>prod_cat</th>\n",
       "      <th>prod_sub_cat_code</th>\n",
       "      <th>prod_subcat</th>\n",
       "    </tr>\n",
       "  </thead>\n",
       "  <tbody>\n",
       "    <tr>\n",
       "      <th>99424</th>\n",
       "      <td>267982</td>\n",
       "      <td>09-06-1991</td>\n",
       "      <td>F</td>\n",
       "      <td>3.0</td>\n",
       "      <td>NaN</td>\n",
       "      <td>NaN</td>\n",
       "      <td>NaN</td>\n",
       "      <td>NaN</td>\n",
       "      <td>NaN</td>\n",
       "      <td>NaN</td>\n",
       "      <td>NaN</td>\n",
       "      <td>NaN</td>\n",
       "      <td>NaN</td>\n",
       "      <td>NaN</td>\n",
       "      <td>NaN</td>\n",
       "    </tr>\n",
       "    <tr>\n",
       "      <th>99425</th>\n",
       "      <td>268789</td>\n",
       "      <td>21-12-1991</td>\n",
       "      <td>F</td>\n",
       "      <td>2.0</td>\n",
       "      <td>NaN</td>\n",
       "      <td>NaN</td>\n",
       "      <td>NaN</td>\n",
       "      <td>NaN</td>\n",
       "      <td>NaN</td>\n",
       "      <td>NaN</td>\n",
       "      <td>NaN</td>\n",
       "      <td>NaN</td>\n",
       "      <td>NaN</td>\n",
       "      <td>NaN</td>\n",
       "      <td>NaN</td>\n",
       "    </tr>\n",
       "    <tr>\n",
       "      <th>99426</th>\n",
       "      <td>274298</td>\n",
       "      <td>09-01-1992</td>\n",
       "      <td>F</td>\n",
       "      <td>8.0</td>\n",
       "      <td>NaN</td>\n",
       "      <td>NaN</td>\n",
       "      <td>NaN</td>\n",
       "      <td>NaN</td>\n",
       "      <td>NaN</td>\n",
       "      <td>NaN</td>\n",
       "      <td>NaN</td>\n",
       "      <td>NaN</td>\n",
       "      <td>NaN</td>\n",
       "      <td>NaN</td>\n",
       "      <td>NaN</td>\n",
       "    </tr>\n",
       "    <tr>\n",
       "      <th>99427</th>\n",
       "      <td>268631</td>\n",
       "      <td>19-01-1992</td>\n",
       "      <td>M</td>\n",
       "      <td>2.0</td>\n",
       "      <td>NaN</td>\n",
       "      <td>NaN</td>\n",
       "      <td>NaN</td>\n",
       "      <td>NaN</td>\n",
       "      <td>NaN</td>\n",
       "      <td>NaN</td>\n",
       "      <td>NaN</td>\n",
       "      <td>NaN</td>\n",
       "      <td>NaN</td>\n",
       "      <td>NaN</td>\n",
       "      <td>NaN</td>\n",
       "    </tr>\n",
       "    <tr>\n",
       "      <th>99428</th>\n",
       "      <td>268019</td>\n",
       "      <td>21-01-1992</td>\n",
       "      <td>M</td>\n",
       "      <td>5.0</td>\n",
       "      <td>NaN</td>\n",
       "      <td>NaN</td>\n",
       "      <td>NaN</td>\n",
       "      <td>NaN</td>\n",
       "      <td>NaN</td>\n",
       "      <td>NaN</td>\n",
       "      <td>NaN</td>\n",
       "      <td>NaN</td>\n",
       "      <td>NaN</td>\n",
       "      <td>NaN</td>\n",
       "      <td>NaN</td>\n",
       "    </tr>\n",
       "    <tr>\n",
       "      <th>99429</th>\n",
       "      <td>270232</td>\n",
       "      <td>22-04-1992</td>\n",
       "      <td>M</td>\n",
       "      <td>10.0</td>\n",
       "      <td>NaN</td>\n",
       "      <td>NaN</td>\n",
       "      <td>NaN</td>\n",
       "      <td>NaN</td>\n",
       "      <td>NaN</td>\n",
       "      <td>NaN</td>\n",
       "      <td>NaN</td>\n",
       "      <td>NaN</td>\n",
       "      <td>NaN</td>\n",
       "      <td>NaN</td>\n",
       "      <td>NaN</td>\n",
       "    </tr>\n",
       "    <tr>\n",
       "      <th>99430</th>\n",
       "      <td>268693</td>\n",
       "      <td>23-05-1992</td>\n",
       "      <td>M</td>\n",
       "      <td>6.0</td>\n",
       "      <td>NaN</td>\n",
       "      <td>NaN</td>\n",
       "      <td>NaN</td>\n",
       "      <td>NaN</td>\n",
       "      <td>NaN</td>\n",
       "      <td>NaN</td>\n",
       "      <td>NaN</td>\n",
       "      <td>NaN</td>\n",
       "      <td>NaN</td>\n",
       "      <td>NaN</td>\n",
       "      <td>NaN</td>\n",
       "    </tr>\n",
       "    <tr>\n",
       "      <th>99431</th>\n",
       "      <td>266947</td>\n",
       "      <td>17-07-1992</td>\n",
       "      <td>M</td>\n",
       "      <td>5.0</td>\n",
       "      <td>NaN</td>\n",
       "      <td>NaN</td>\n",
       "      <td>NaN</td>\n",
       "      <td>NaN</td>\n",
       "      <td>NaN</td>\n",
       "      <td>NaN</td>\n",
       "      <td>NaN</td>\n",
       "      <td>NaN</td>\n",
       "      <td>NaN</td>\n",
       "      <td>NaN</td>\n",
       "      <td>NaN</td>\n",
       "    </tr>\n",
       "    <tr>\n",
       "      <th>99432</th>\n",
       "      <td>270973</td>\n",
       "      <td>24-07-1992</td>\n",
       "      <td>F</td>\n",
       "      <td>5.0</td>\n",
       "      <td>NaN</td>\n",
       "      <td>NaN</td>\n",
       "      <td>NaN</td>\n",
       "      <td>NaN</td>\n",
       "      <td>NaN</td>\n",
       "      <td>NaN</td>\n",
       "      <td>NaN</td>\n",
       "      <td>NaN</td>\n",
       "      <td>NaN</td>\n",
       "      <td>NaN</td>\n",
       "      <td>NaN</td>\n",
       "    </tr>\n",
       "    <tr>\n",
       "      <th>99433</th>\n",
       "      <td>272125</td>\n",
       "      <td>19-12-1992</td>\n",
       "      <td>F</td>\n",
       "      <td>7.0</td>\n",
       "      <td>NaN</td>\n",
       "      <td>NaN</td>\n",
       "      <td>NaN</td>\n",
       "      <td>NaN</td>\n",
       "      <td>NaN</td>\n",
       "      <td>NaN</td>\n",
       "      <td>NaN</td>\n",
       "      <td>NaN</td>\n",
       "      <td>NaN</td>\n",
       "      <td>NaN</td>\n",
       "      <td>NaN</td>\n",
       "    </tr>\n",
       "  </tbody>\n",
       "</table>\n",
       "</div>"
      ],
      "text/plain": [
       "       customer_Id         DOB Gender  city_code  transaction_id tran_date  \\\n",
       "99424       267982  09-06-1991      F        3.0             NaN       NaN   \n",
       "99425       268789  21-12-1991      F        2.0             NaN       NaN   \n",
       "99426       274298  09-01-1992      F        8.0             NaN       NaN   \n",
       "99427       268631  19-01-1992      M        2.0             NaN       NaN   \n",
       "99428       268019  21-01-1992      M        5.0             NaN       NaN   \n",
       "99429       270232  22-04-1992      M       10.0             NaN       NaN   \n",
       "99430       268693  23-05-1992      M        6.0             NaN       NaN   \n",
       "99431       266947  17-07-1992      M        5.0             NaN       NaN   \n",
       "99432       270973  24-07-1992      F        5.0             NaN       NaN   \n",
       "99433       272125  19-12-1992      F        7.0             NaN       NaN   \n",
       "\n",
       "       prod_cat_code  Qty  Rate  Tax  total_amt Store_type prod_cat  \\\n",
       "99424            NaN  NaN   NaN  NaN        NaN        NaN      NaN   \n",
       "99425            NaN  NaN   NaN  NaN        NaN        NaN      NaN   \n",
       "99426            NaN  NaN   NaN  NaN        NaN        NaN      NaN   \n",
       "99427            NaN  NaN   NaN  NaN        NaN        NaN      NaN   \n",
       "99428            NaN  NaN   NaN  NaN        NaN        NaN      NaN   \n",
       "99429            NaN  NaN   NaN  NaN        NaN        NaN      NaN   \n",
       "99430            NaN  NaN   NaN  NaN        NaN        NaN      NaN   \n",
       "99431            NaN  NaN   NaN  NaN        NaN        NaN      NaN   \n",
       "99432            NaN  NaN   NaN  NaN        NaN        NaN      NaN   \n",
       "99433            NaN  NaN   NaN  NaN        NaN        NaN      NaN   \n",
       "\n",
       "       prod_sub_cat_code prod_subcat  \n",
       "99424                NaN         NaN  \n",
       "99425                NaN         NaN  \n",
       "99426                NaN         NaN  \n",
       "99427                NaN         NaN  \n",
       "99428                NaN         NaN  \n",
       "99429                NaN         NaN  \n",
       "99430                NaN         NaN  \n",
       "99431                NaN         NaN  \n",
       "99432                NaN         NaN  \n",
       "99433                NaN         NaN  "
      ]
     },
     "execution_count": 51,
     "metadata": {},
     "output_type": "execute_result"
    }
   ],
   "source": [
    "customer_final.tail(10)"
   ]
  },
  {
   "cell_type": "markdown",
   "id": "2fdc3fb9",
   "metadata": {},
   "source": [
    "#### Q2.c."
   ]
  },
  {
   "cell_type": "code",
   "execution_count": 11,
   "id": "daee2865",
   "metadata": {},
   "outputs": [
    {
     "data": {
      "text/html": [
       "<div>\n",
       "<style scoped>\n",
       "    .dataframe tbody tr th:only-of-type {\n",
       "        vertical-align: middle;\n",
       "    }\n",
       "\n",
       "    .dataframe tbody tr th {\n",
       "        vertical-align: top;\n",
       "    }\n",
       "\n",
       "    .dataframe thead th {\n",
       "        text-align: right;\n",
       "    }\n",
       "</style>\n",
       "<table border=\"1\" class=\"dataframe\">\n",
       "  <thead>\n",
       "    <tr style=\"text-align: right;\">\n",
       "      <th></th>\n",
       "      <th>city_code</th>\n",
       "      <th>transaction_id</th>\n",
       "      <th>prod_cat_code</th>\n",
       "      <th>Qty</th>\n",
       "      <th>Rate</th>\n",
       "      <th>Tax</th>\n",
       "      <th>total_amt</th>\n",
       "      <th>prod_sub_cat_code</th>\n",
       "    </tr>\n",
       "  </thead>\n",
       "  <tbody>\n",
       "    <tr>\n",
       "      <th>min</th>\n",
       "      <td>1.0</td>\n",
       "      <td>3.268991e+06</td>\n",
       "      <td>1.0</td>\n",
       "      <td>-5.0</td>\n",
       "      <td>-1499.0</td>\n",
       "      <td>7.350</td>\n",
       "      <td>-8270.925</td>\n",
       "      <td>1.0</td>\n",
       "    </tr>\n",
       "    <tr>\n",
       "      <th>25%</th>\n",
       "      <td>3.0</td>\n",
       "      <td>2.492150e+10</td>\n",
       "      <td>3.0</td>\n",
       "      <td>1.0</td>\n",
       "      <td>313.0</td>\n",
       "      <td>98.280</td>\n",
       "      <td>762.450</td>\n",
       "      <td>4.0</td>\n",
       "    </tr>\n",
       "    <tr>\n",
       "      <th>50%</th>\n",
       "      <td>5.0</td>\n",
       "      <td>5.011083e+10</td>\n",
       "      <td>5.0</td>\n",
       "      <td>3.0</td>\n",
       "      <td>713.0</td>\n",
       "      <td>199.920</td>\n",
       "      <td>1761.370</td>\n",
       "      <td>7.0</td>\n",
       "    </tr>\n",
       "    <tr>\n",
       "      <th>75%</th>\n",
       "      <td>8.0</td>\n",
       "      <td>7.528121e+10</td>\n",
       "      <td>5.0</td>\n",
       "      <td>4.0</td>\n",
       "      <td>1109.0</td>\n",
       "      <td>366.975</td>\n",
       "      <td>3585.725</td>\n",
       "      <td>10.0</td>\n",
       "    </tr>\n",
       "    <tr>\n",
       "      <th>max</th>\n",
       "      <td>10.0</td>\n",
       "      <td>9.998755e+10</td>\n",
       "      <td>6.0</td>\n",
       "      <td>5.0</td>\n",
       "      <td>1500.0</td>\n",
       "      <td>787.500</td>\n",
       "      <td>8287.500</td>\n",
       "      <td>12.0</td>\n",
       "    </tr>\n",
       "  </tbody>\n",
       "</table>\n",
       "</div>"
      ],
      "text/plain": [
       "     city_code  transaction_id  prod_cat_code  Qty    Rate      Tax  \\\n",
       "min        1.0    3.268991e+06            1.0 -5.0 -1499.0    7.350   \n",
       "25%        3.0    2.492150e+10            3.0  1.0   313.0   98.280   \n",
       "50%        5.0    5.011083e+10            5.0  3.0   713.0  199.920   \n",
       "75%        8.0    7.528121e+10            5.0  4.0  1109.0  366.975   \n",
       "max       10.0    9.998755e+10            6.0  5.0  1500.0  787.500   \n",
       "\n",
       "     total_amt  prod_sub_cat_code  \n",
       "min  -8270.925                1.0  \n",
       "25%    762.450                4.0  \n",
       "50%   1761.370                7.0  \n",
       "75%   3585.725               10.0  \n",
       "max   8287.500               12.0  "
      ]
     },
     "execution_count": 11,
     "metadata": {},
     "output_type": "execute_result"
    }
   ],
   "source": [
    "customer_final.select_dtypes('float64','int64').describe().loc[['min','25%','50%','75%','max'],:]"
   ]
  },
  {
   "cell_type": "markdown",
   "id": "beb085a3",
   "metadata": {},
   "source": [
    "#### Q2.d."
   ]
  },
  {
   "cell_type": "code",
   "execution_count": 80,
   "id": "5dec8276",
   "metadata": {},
   "outputs": [
    {
     "name": "stdout",
     "output_type": "stream",
     "text": [
      "\n",
      "Frequence of Categories for variable Gender\n",
      "M    51117\n",
      "F    48277\n",
      "Name: Gender, dtype: int64\n",
      "\n",
      "Frequence of Categories for variable Store_type\n",
      "e-Shop            40185\n",
      "MBR               19974\n",
      "Flagship store    19814\n",
      "TeleShop          19320\n",
      "Name: Store_type, dtype: int64\n",
      "\n",
      "Frequence of Categories for variable prod_cat\n",
      "Books               36414\n",
      "Electronics         24490\n",
      "Home and kitchen    16516\n",
      "Footwear             8997\n",
      "Clothing             8880\n",
      "Bags                 3996\n",
      "Name: prod_cat, dtype: int64\n",
      "\n",
      "Frequence of Categories for variable prod_subcat\n",
      "Mens                   7957\n",
      "Women                  7957\n",
      "Fiction                6069\n",
      "Non-Fiction            6069\n",
      "Children               6069\n",
      "Comics                 6069\n",
      "DIY                    6069\n",
      "Academic               6069\n",
      "Kids                   5959\n",
      "Mobiles                4898\n",
      "Cameras                4898\n",
      "Personal Appliances    4898\n",
      "Computers              4898\n",
      "Audio and video        4898\n",
      "Tools                  4129\n",
      "Bath                   4129\n",
      "Furnishing             4129\n",
      "Kitchen                4129\n",
      "Name: prod_subcat, dtype: int64\n"
     ]
    }
   ],
   "source": [
    "\n",
    "categorical_columns=[x for x in customer_final.dtypes.index if customer_final.dtypes[x]=='object']\n",
    "categorical_columns = [x for x in categorical_columns if x not in ['DOB','tran_date']]\n",
    "for col in categorical_columns:\n",
    "    print(f'\\nFrequence of Categories for variable {col}')\n",
    "    print(customer_final[col].value_counts())\n",
    "    #df = pd.DataFrame(customer_final[col].value_counts())\n",
    "    #print(df)"
   ]
  },
  {
   "cell_type": "markdown",
   "id": "7490b2d5",
   "metadata": {},
   "source": [
    "#### Q3."
   ]
  },
  {
   "cell_type": "code",
   "execution_count": 69,
   "id": "7d654d98",
   "metadata": {},
   "outputs": [
    {
     "data": {
      "image/png": "[encoded data removed]",
      "text/plain": [
       "<Figure size 432x288 with 1 Axes>"
      ]
     },
     "metadata": {
      "needs_background": "light"
     },
     "output_type": "display_data"
    },
    {
     "data": {
      "image/png": "[encoded data removed]",
      "text/plain": [
       "<Figure size 432x288 with 1 Axes>"
      ]
     },
     "metadata": {
      "needs_background": "light"
     },
     "output_type": "display_data"
    },
    {
     "data": {
      "image/png": "[encoded data removed]",
      "text/plain": [
       "<Figure size 432x288 with 1 Axes>"
      ]
     },
     "metadata": {
      "needs_background": "light"
     },
     "output_type": "display_data"
    },
    {
     "data": {
      "image/png": "[encoded data removed]",
      "text/plain": [
       "<Figure size 432x288 with 1 Axes>"
      ]
     },
     "metadata": {
      "needs_background": "light"
     },
     "output_type": "display_data"
    },
    {
     "data": {
      "image/png": "[encoded data removed]",
      "text/plain": [
       "<Figure size 432x288 with 1 Axes>"
      ]
     },
     "metadata": {
      "needs_background": "light"
     },
     "output_type": "display_data"
    },
    {
     "data": {
      "image/png": "[encoded data removed]",
      "text/plain": [
       "<Figure size 432x288 with 1 Axes>"
      ]
     },
     "metadata": {
      "needs_background": "light"
     },
     "output_type": "display_data"
    },
    {
     "data": {
      "image/png": "[encoded data removed]",
      "text/plain": [
       "<Figure size 432x288 with 1 Axes>"
      ]
     },
     "metadata": {
      "needs_background": "light"
     },
     "output_type": "display_data"
    },
    {
     "data": {
      "image/png": "[encoded data removed]",
      "text/plain": [
       "<Figure size 432x288 with 1 Axes>"
      ]
     },
     "metadata": {
      "needs_background": "light"
     },
     "output_type": "display_data"
    },
    {
     "data": {
      "text/plain": [
       "city_code            None\n",
       "transaction_id       None\n",
       "prod_cat_code        None\n",
       "Qty                  None\n",
       "Rate                 None\n",
       "Tax                  None\n",
       "total_amt            None\n",
       "prod_sub_cat_code    None\n",
       "dtype: object"
      ]
     },
     "execution_count": 69,
     "metadata": {},
     "output_type": "execute_result"
    }
   ],
   "source": [
    "def continous_graphs(x):\n",
    "    plt.title('Histogram for ' + x.name)\n",
    "    x.hist()\n",
    "    plt.show()\n",
    "   \n",
    "customer_final.select_dtypes('float64','int64').apply(continous_graphs)"
   ]
  },
  {
   "cell_type": "code",
   "execution_count": 71,
   "id": "10636025",
   "metadata": {},
   "outputs": [
    {
     "data": {
      "image/png": "[encoded data removed]",
      "text/plain": [
       "<Figure size 720x576 with 4 Axes>"
      ]
     },
     "metadata": {
      "needs_background": "light"
     },
     "output_type": "display_data"
    }
   ],
   "source": [
    "gender_freq = customer_final['Gender'].value_counts()\n",
    "store_type_freq = customer_final['Store_type'].value_counts()\n",
    "prod_cat_freq = customer_final['prod_cat'].value_counts()\n",
    "prod_subcat_freq = customer_final['prod_subcat'].value_counts()\n",
    "plt.figure(figsize=(10, 8))\n",
    "\n",
    "# Plot frequency bars for Gender\n",
    "plt.subplot(2, 2, 1)\n",
    "gender_freq.plot(kind='bar')\n",
    "plt.title('Gender')\n",
    "\n",
    "# Plot frequency bars for Store_type\n",
    "plt.subplot(2, 2, 2)\n",
    "store_type_freq.plot(kind='bar')\n",
    "plt.title('Store Type')\n",
    "\n",
    "# Plot frequency bars for prod_cat\n",
    "plt.subplot(2, 2, 3)\n",
    "prod_cat_freq.plot(kind='bar')\n",
    "plt.title('Product Category')\n",
    "\n",
    "# Plot frequency bars for prod_subcat\n",
    "plt.subplot(2, 2, 4)\n",
    "prod_subcat_freq.plot(kind='bar')\n",
    "plt.title('Product Subcategory')\n",
    "\n",
    "# Adjust the spacing between subplots\n",
    "plt.tight_layout()\n",
    "\n",
    "# Display the plots\n",
    "plt.show()\n"
   ]
  },
  {
   "cell_type": "markdown",
   "id": "abe92997",
   "metadata": {},
   "source": [
    "#### Q4.a."
   ]
  },
  {
   "cell_type": "code",
   "execution_count": 127,
   "id": "3ae961de",
   "metadata": {},
   "outputs": [],
   "source": [
    "customer_final.tran_date=pd.to_datetime(customer_final.tran_date)"
   ]
  },
  {
   "cell_type": "code",
   "execution_count": 128,
   "id": "40c4dd1f",
   "metadata": {},
   "outputs": [],
   "source": [
    "x=customer_final.tran_date.min()"
   ]
  },
  {
   "cell_type": "code",
   "execution_count": 129,
   "id": "dcfe37d5",
   "metadata": {},
   "outputs": [],
   "source": [
    "y=customer_final.tran_date.max()"
   ]
  },
  {
   "cell_type": "code",
   "execution_count": 130,
   "id": "7ea4eed3",
   "metadata": {},
   "outputs": [
    {
     "name": "stdout",
     "output_type": "stream",
     "text": [
      "The transaction data availabe from 2011-01-02 00:00:00 to 2014-12-02 00:00:00\n"
     ]
    }
   ],
   "source": [
    "print(f'The transaction data availabe from {x} to {y}')"
   ]
  },
  {
   "cell_type": "markdown",
   "id": "6a8db8d8",
   "metadata": {},
   "source": [
    "#### Q4.b."
   ]
  },
  {
   "cell_type": "code",
   "execution_count": 140,
   "id": "558cfec3",
   "metadata": {},
   "outputs": [
    {
     "data": {
      "text/plain": [
       "9294"
      ]
     },
     "execution_count": 140,
     "metadata": {},
     "output_type": "execute_result"
    }
   ],
   "source": [
    "customer_final[customer_final.total_amt<0].transaction_id.count()"
   ]
  },
  {
   "cell_type": "code",
   "execution_count": null,
   "id": "4a24f281",
   "metadata": {},
   "outputs": [],
   "source": []
  }
 ],
 "metadata": {
  "kernelspec": {
   "display_name": "Python 3 (ipykernel)",
   "language": "python",
   "name": "python3"
  },
  "language_info": {
   "codemirror_mode": {
    "name": "ipython",
    "version": 3
   },
   "file_extension": ".py",
   "mimetype": "text/x-python",
   "name": "python",
   "nbconvert_exporter": "python",
   "pygments_lexer": "ipython3",
   "version": "3.9.7"
  }
 },
 "nbformat": 4,
 "nbformat_minor": 5
}
